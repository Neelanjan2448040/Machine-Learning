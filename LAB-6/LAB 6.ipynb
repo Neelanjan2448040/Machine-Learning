{
 "cells": [
  {
   "cell_type": "markdown",
   "id": "1a55c8f0",
   "metadata": {},
   "source": [
    "# Lab 6: Factor Analysis"
   ]
  },
  {
   "cell_type": "markdown",
   "id": "d00a46ad",
   "metadata": {},
   "source": [
    " <h2 style=\"text-align: center;\">Name: Neelanajn Dutta </h2>"
   ]
  },
  {
   "cell_type": "markdown",
   "id": "32ac7f79",
   "metadata": {},
   "source": [
    " <h2 style=\"text-align: center;\">Registration number: 2448040 </h2>"
   ]
  },
  {
   "cell_type": "markdown",
   "id": "64342ea5",
   "metadata": {},
   "source": [
    "## Importing libraries:"
   ]
  },
  {
   "cell_type": "code",
   "execution_count": 99,
   "id": "7573786a",
   "metadata": {},
   "outputs": [],
   "source": [
    "import pandas as pd\n",
    "import numpy as np\n",
    "import matplotlib.pyplot as plt\n",
    "import seaborn as sns\n",
    "from sklearn.preprocessing import StandardScaler\n",
    "from sklearn.decomposition import FactorAnalysis, PCA"
   ]
  },
  {
   "cell_type": "markdown",
   "id": "3e076587",
   "metadata": {},
   "source": [
    "## Loading the dataset:"
   ]
  },
  {
   "cell_type": "code",
   "execution_count": 100,
   "id": "3179426f",
   "metadata": {},
   "outputs": [
    {
     "data": {
      "text/html": [
       "<div>\n",
       "<style scoped>\n",
       "    .dataframe tbody tr th:only-of-type {\n",
       "        vertical-align: middle;\n",
       "    }\n",
       "\n",
       "    .dataframe tbody tr th {\n",
       "        vertical-align: top;\n",
       "    }\n",
       "\n",
       "    .dataframe thead th {\n",
       "        text-align: right;\n",
       "    }\n",
       "</style>\n",
       "<table border=\"1\" class=\"dataframe\">\n",
       "  <thead>\n",
       "    <tr style=\"text-align: right;\">\n",
       "      <th></th>\n",
       "      <th>Unnamed: 0</th>\n",
       "      <th>Oil</th>\n",
       "      <th>Density</th>\n",
       "      <th>Crispy</th>\n",
       "      <th>Fracture</th>\n",
       "      <th>Hardness</th>\n",
       "    </tr>\n",
       "  </thead>\n",
       "  <tbody>\n",
       "    <tr>\n",
       "      <th>0</th>\n",
       "      <td>B110</td>\n",
       "      <td>16.5</td>\n",
       "      <td>2955</td>\n",
       "      <td>10</td>\n",
       "      <td>23</td>\n",
       "      <td>97</td>\n",
       "    </tr>\n",
       "    <tr>\n",
       "      <th>1</th>\n",
       "      <td>B136</td>\n",
       "      <td>17.7</td>\n",
       "      <td>2660</td>\n",
       "      <td>14</td>\n",
       "      <td>9</td>\n",
       "      <td>139</td>\n",
       "    </tr>\n",
       "    <tr>\n",
       "      <th>2</th>\n",
       "      <td>B171</td>\n",
       "      <td>16.2</td>\n",
       "      <td>2870</td>\n",
       "      <td>12</td>\n",
       "      <td>17</td>\n",
       "      <td>143</td>\n",
       "    </tr>\n",
       "    <tr>\n",
       "      <th>3</th>\n",
       "      <td>B192</td>\n",
       "      <td>16.7</td>\n",
       "      <td>2920</td>\n",
       "      <td>10</td>\n",
       "      <td>31</td>\n",
       "      <td>95</td>\n",
       "    </tr>\n",
       "    <tr>\n",
       "      <th>4</th>\n",
       "      <td>B225</td>\n",
       "      <td>16.3</td>\n",
       "      <td>2975</td>\n",
       "      <td>11</td>\n",
       "      <td>26</td>\n",
       "      <td>143</td>\n",
       "    </tr>\n",
       "  </tbody>\n",
       "</table>\n",
       "</div>"
      ],
      "text/plain": [
       "  Unnamed: 0   Oil  Density  Crispy  Fracture  Hardness\n",
       "0       B110  16.5     2955      10        23        97\n",
       "1       B136  17.7     2660      14         9       139\n",
       "2       B171  16.2     2870      12        17       143\n",
       "3       B192  16.7     2920      10        31        95\n",
       "4       B225  16.3     2975      11        26       143"
      ]
     },
     "execution_count": 100,
     "metadata": {},
     "output_type": "execute_result"
    }
   ],
   "source": [
    "df=pd.read_csv(\"D:/food-texture.csv\")\n",
    "df.head()"
   ]
  },
  {
   "cell_type": "markdown",
   "id": "393541f7",
   "metadata": {},
   "source": [
    "## Some basic tasks:"
   ]
  },
  {
   "cell_type": "code",
   "execution_count": 101,
   "id": "86bb1e33",
   "metadata": {},
   "outputs": [],
   "source": [
    " df = df.drop(columns=['Unnamed: 0']) #Because this column is of no use"
   ]
  },
  {
   "cell_type": "code",
   "execution_count": 102,
   "id": "87f4a8dd",
   "metadata": {},
   "outputs": [
    {
     "name": "stdout",
     "output_type": "stream",
     "text": [
      "<class 'pandas.core.frame.DataFrame'>\n",
      "RangeIndex: 50 entries, 0 to 49\n",
      "Data columns (total 5 columns):\n",
      " #   Column    Non-Null Count  Dtype  \n",
      "---  ------    --------------  -----  \n",
      " 0   Oil       50 non-null     float64\n",
      " 1   Density   50 non-null     int64  \n",
      " 2   Crispy    50 non-null     int64  \n",
      " 3   Fracture  50 non-null     int64  \n",
      " 4   Hardness  50 non-null     int64  \n",
      "dtypes: float64(1), int64(4)\n",
      "memory usage: 2.1 KB\n"
     ]
    }
   ],
   "source": [
    " df.info() "
   ]
  },
  {
   "cell_type": "code",
   "execution_count": 103,
   "id": "4e407ae5",
   "metadata": {},
   "outputs": [
    {
     "data": {
      "text/html": [
       "<div>\n",
       "<style scoped>\n",
       "    .dataframe tbody tr th:only-of-type {\n",
       "        vertical-align: middle;\n",
       "    }\n",
       "\n",
       "    .dataframe tbody tr th {\n",
       "        vertical-align: top;\n",
       "    }\n",
       "\n",
       "    .dataframe thead th {\n",
       "        text-align: right;\n",
       "    }\n",
       "</style>\n",
       "<table border=\"1\" class=\"dataframe\">\n",
       "  <thead>\n",
       "    <tr style=\"text-align: right;\">\n",
       "      <th></th>\n",
       "      <th>Oil</th>\n",
       "      <th>Density</th>\n",
       "      <th>Crispy</th>\n",
       "      <th>Fracture</th>\n",
       "      <th>Hardness</th>\n",
       "    </tr>\n",
       "  </thead>\n",
       "  <tbody>\n",
       "    <tr>\n",
       "      <th>count</th>\n",
       "      <td>50.000000</td>\n",
       "      <td>50.00000</td>\n",
       "      <td>50.000000</td>\n",
       "      <td>50.000000</td>\n",
       "      <td>50.000000</td>\n",
       "    </tr>\n",
       "    <tr>\n",
       "      <th>mean</th>\n",
       "      <td>17.202000</td>\n",
       "      <td>2857.60000</td>\n",
       "      <td>11.520000</td>\n",
       "      <td>20.860000</td>\n",
       "      <td>128.180000</td>\n",
       "    </tr>\n",
       "    <tr>\n",
       "      <th>std</th>\n",
       "      <td>1.592007</td>\n",
       "      <td>124.49998</td>\n",
       "      <td>1.775571</td>\n",
       "      <td>5.466073</td>\n",
       "      <td>31.127578</td>\n",
       "    </tr>\n",
       "    <tr>\n",
       "      <th>min</th>\n",
       "      <td>13.700000</td>\n",
       "      <td>2570.00000</td>\n",
       "      <td>7.000000</td>\n",
       "      <td>9.000000</td>\n",
       "      <td>63.000000</td>\n",
       "    </tr>\n",
       "    <tr>\n",
       "      <th>25%</th>\n",
       "      <td>16.300000</td>\n",
       "      <td>2772.50000</td>\n",
       "      <td>10.000000</td>\n",
       "      <td>17.000000</td>\n",
       "      <td>107.250000</td>\n",
       "    </tr>\n",
       "    <tr>\n",
       "      <th>50%</th>\n",
       "      <td>16.900000</td>\n",
       "      <td>2867.50000</td>\n",
       "      <td>12.000000</td>\n",
       "      <td>21.000000</td>\n",
       "      <td>126.000000</td>\n",
       "    </tr>\n",
       "    <tr>\n",
       "      <th>75%</th>\n",
       "      <td>18.100000</td>\n",
       "      <td>2945.00000</td>\n",
       "      <td>13.000000</td>\n",
       "      <td>25.000000</td>\n",
       "      <td>143.750000</td>\n",
       "    </tr>\n",
       "    <tr>\n",
       "      <th>max</th>\n",
       "      <td>21.200000</td>\n",
       "      <td>3125.00000</td>\n",
       "      <td>15.000000</td>\n",
       "      <td>33.000000</td>\n",
       "      <td>192.000000</td>\n",
       "    </tr>\n",
       "  </tbody>\n",
       "</table>\n",
       "</div>"
      ],
      "text/plain": [
       "             Oil     Density     Crispy   Fracture    Hardness\n",
       "count  50.000000    50.00000  50.000000  50.000000   50.000000\n",
       "mean   17.202000  2857.60000  11.520000  20.860000  128.180000\n",
       "std     1.592007   124.49998   1.775571   5.466073   31.127578\n",
       "min    13.700000  2570.00000   7.000000   9.000000   63.000000\n",
       "25%    16.300000  2772.50000  10.000000  17.000000  107.250000\n",
       "50%    16.900000  2867.50000  12.000000  21.000000  126.000000\n",
       "75%    18.100000  2945.00000  13.000000  25.000000  143.750000\n",
       "max    21.200000  3125.00000  15.000000  33.000000  192.000000"
      ]
     },
     "execution_count": 103,
     "metadata": {},
     "output_type": "execute_result"
    }
   ],
   "source": [
    "df.describe()"
   ]
  },
  {
   "cell_type": "markdown",
   "id": "c9d3109c",
   "metadata": {},
   "source": [
    "<b>Interpretation</b>: <br>\n",
    "    The dataset consists of 50 observations for Oil, Density, Crispy, Fracture, and Hardness. Oil content averages 17.2% (range: 13.7–21.2), while Density is around 2857.6 with low variability. Crispy scores range from 7 to 15, showing consistency. Fracture (9–33) and Hardness (63–192) have higher variation, indicating differences in texture. Hardness has the widest spread, suggesting varying product firmness. Fracture and Hardness may be correlated, affecting crispiness perception."
   ]
  },
  {
   "cell_type": "code",
   "execution_count": 104,
   "id": "c0ce6de4",
   "metadata": {},
   "outputs": [
    {
     "name": "stdout",
     "output_type": "stream",
     "text": [
      "Missing values per column:\n",
      "Oil         0\n",
      "Density     0\n",
      "Crispy      0\n",
      "Fracture    0\n",
      "Hardness    0\n",
      "dtype: int64\n"
     ]
    }
   ],
   "source": [
    " # Check for missing values\n",
    "missing_values = df.isnull().sum()\n",
    "print(\"Missing values per column:\")\n",
    "print(missing_values)"
   ]
  },
  {
   "cell_type": "markdown",
   "id": "59aca30a",
   "metadata": {},
   "source": [
    "<b>Interpretation</b>:<br>\n",
    "    There are no missing values in the dataset."
   ]
  },
  {
   "cell_type": "markdown",
   "id": "916c5ff0",
   "metadata": {},
   "source": [
    "## Factor Analysis tasks:"
   ]
  },
  {
   "cell_type": "code",
   "execution_count": 105,
   "id": "4e58dfaa",
   "metadata": {},
   "outputs": [],
   "source": [
    "# Standardizing the data (Factor Analysis assumes standardized data)\n",
    "scaler = StandardScaler()\n",
    "df_scaled = scaler.fit_transform(df)"
   ]
  },
  {
   "cell_type": "code",
   "execution_count": 106,
   "id": "10cecf10",
   "metadata": {},
   "outputs": [
    {
     "data": {
      "image/png": "[encoded data removed]",
      "text/plain": [
       "<Figure size 800x500 with 1 Axes>"
      ]
     },
     "metadata": {},
     "output_type": "display_data"
    },
    {
     "name": "stdout",
     "output_type": "stream",
     "text": [
      "Optimal number of factors based on Kaiser Criterion: 2\n"
     ]
    }
   ],
   "source": [
    "# Determine the optimal number of factors using Kaiser Criterion \n",
    "              # and Scree Plot\n",
    "pca = PCA()\n",
    "pca.fit(df_scaled)\n",
    "eigenvalues = pca.explained_variance_\n",
    "# Scree Plot\n",
    "plt.figure(figsize=(8, 5))\n",
    "plt.plot(range(1, len(eigenvalues) + 1), eigenvalues, marker='o', \n",
    "         linestyle='--')\n",
    "plt.xlabel(\"Number of Factors\")\n",
    "plt.ylabel(\"Eigenvalue\")\n",
    "plt.title(\"Scree Plot for Factor Analysis\")\n",
    "plt.axhline(y=1, color='red', linestyle='--')  # Kaiser Criterion \n",
    "plt.show()\n",
    "# Select number of factors where eigenvalues > 1\n",
    "optimal_factors = np.sum(eigenvalues > 1)\n",
    "print(f\"Optimal number of factors based on Kaiser Criterion: {optimal_factors}\")"
   ]
  },
  {
   "cell_type": "markdown",
   "id": "767435c1",
   "metadata": {},
   "source": [
    "<b>Kaiser Criterion:</b> <br>\n",
    "  • States that only factors with eigenvalues > 1 should be retained in Factor Analysis or PCA.<br>\n",
    "  • An eigenvalue represents the variance explained by a factor. If it's greater than 1, the factor explains more variance than a single original variable, making it useful.<br>\n",
    "  Here we would count the number of eigenvalues > 1 to determine the optimal number of factors: <br>\n",
    "     • Scree Plot (graph of eigenvalues vs. the number of factors) identifies the \"elbow point\"—where eigenvalues drop sharply and level off. The number of factors before this sharp drop is considered optimal, as they explain the most variance.<br>\n",
    "     • Here first Principal Component Analysis (PCA) is performed on a scaled dataset (df_scaled) to determine the eigenvalues of the factors.<br>\n",
    "     • A scree plot is generated, showing eigenvalues for each factor.<br>\n",
    "     • The Kaiser Criterion is applied by marking a red reference line at eigenvalue = 1.<br>\n",
    "     • Optimal number of factors is selected where eigenvalues > 1. <br>"
   ]
  },
  {
   "cell_type": "markdown",
   "id": "ca44af67",
   "metadata": {},
   "source": [
    "<b>Key Interpretations from the Scree Plot:</b> <br>\n",
    " • Eigenvalues represent the variance explained by each factor. <br>\n",
    " • Factors with eigenvalues > 1 are considered significant (Kaiser Criterion). Here, two factors have eigenvalues greater than 1, meaning we should retain two factors. <br>\n",
    " • The “elbow point” in the scree plot confirms this selection. <br>\n",
    " • After Factor 2, the eigenvalues drop significantly, indicating diminishing explanatory power of additional factors. <br>\n",
    " • The red dashed line at eigenvalue = 1 helps visualize the cut-off point.<br>\n",
    "<b>Conclusion:</b> <br>\n",
    "  This the optimal number of factors for this dataset is 2, as they explain most of the variance while avoiding unnecessary complexity.Additional factors contribute very little \n",
    "variance and can be ignored."
   ]
  },
  {
   "cell_type": "code",
   "execution_count": 107,
   "id": "4c165734",
   "metadata": {},
   "outputs": [
    {
     "name": "stdout",
     "output_type": "stream",
     "text": [
      "\n",
      "Factor Loadings:\n",
      "        Oil   Density    Crispy  Fracture  Hardness\n",
      "0 -0.688660  0.771513 -0.957506  0.855834 -0.319668\n",
      "1  0.441448 -0.494242 -0.142683  0.155682 -0.717508\n"
     ]
    }
   ],
   "source": [
    "# Perform Factor Analysis with the optimal number of factors\n",
    "fa = FactorAnalysis(n_components=optimal_factors, random_state=42)\n",
    "factors = fa.fit_transform(df_scaled)\n",
    "# Get factor loadings (how much each variable contributes to each factor)\n",
    "factor_loadings = pd.DataFrame(fa.components_, columns=df.columns)\n",
    "# Display factor loadings\n",
    "print(\"\\nFactor Loadings:\")\n",
    "print(factor_loadings)"
   ]
  },
  {
   "cell_type": "markdown",
   "id": "254af61c",
   "metadata": {},
   "source": [
    "Factor loadings represent the correlation between each original variable and the extracted factors. They help us understand how strongly each variable contributes to a factor. <br>\n",
    "If a variable has a high positive or negative value in a factor, it is strongly related to it. "
   ]
  },
  {
   "cell_type": "code",
   "execution_count": 108,
   "id": "c2dcc157",
   "metadata": {},
   "outputs": [
    {
     "data": {
      "image/png": "[encoded data removed]",
      "text/plain": [
       "<Figure size 800x500 with 2 Axes>"
      ]
     },
     "metadata": {},
     "output_type": "display_data"
    }
   ],
   "source": [
    "# Factor Loadings Heatmap\n",
    "# Heatmap of Factor Loadings\n",
    "plt.figure(figsize=(8, 5))\n",
    "sns.heatmap(factor_loadings, annot=True, cmap='coolwarm', fmt='.2f', \n",
    "            linewidths=0.5)\n",
    "plt.title(\"Factor Loadings Heatmap\")\n",
    "plt.xlabel(\"Variables\")\n",
    "plt.ylabel(\"Factors\")\n",
    "plt.show()"
   ]
  },
  {
   "cell_type": "markdown",
   "id": "989b992c",
   "metadata": {},
   "source": [
    "<b>Factor 1 (Row 0) Interpretation:</b> <br>\n",
    " • Density (0.77) and Fracture (0.85) have strong positive loadings → Factor 1 represents characteristics related to the compactness and breaking strength of the food. <br>\n",
    " • Oil (-0.69) and Crispy (-0.96) have strong negative loadings → High oil content is associated with lower crispiness, meaning crispier foods tend to have less oil. <br>\n",
    " • Hardness (-0.32) has a weak negative loading, meaning it has a minor inverse effect on this factor. <br>\n",
    " <br>\n",
    " Factor 1 can be interpreted as \"Texture & Crispiness\"—Foods that are dense and fracture easily are crispier and have lower oil content.<br>\n",
    " <br>\n",
    "<b>Factor 2 (Row 1) Interpretation:</b> <br>\n",
    " • Oil (0.44) and Density (-0.49) have moderate loadings → This factor might represent the trade-off between oil content and density. <br>\n",
    " • Hardness (-0.72) has a strong negative loading → This suggests that harder foods tend to have lower values for this factor. <br>\n",
    " • Crispy (-0.14) and Fracture (0.16) have very small contributions, meaning they don’t strongly define this factor. <br>\n",
    " <br>\n",
    " Factor 2 can be interpreted as \"Oil Content & Hardness\"—Foods with higher oil content tend to be softer, while denser foods are harder.<br>\n",
    " <br>\n",
    " Thus in a nutshell: <br>\n",
    " • Factor 1 differentiates between crispy and dense food items. <br>\n",
    " • Factor 2 captures the relationship between oil content and hardness. <br>\n",
    " • Together, these factors reduce dimensionality while still capturing key variations in food texture. <br>"
   ]
  },
  {
   "cell_type": "code",
   "execution_count": 109,
   "id": "d8f77a27",
   "metadata": {},
   "outputs": [
    {
     "name": "stdout",
     "output_type": "stream",
     "text": [
      "\n",
      "Factor Scores for Each Observation:\n",
      "   Factor_1  Factor_2\n",
      "0  0.837971  0.218817\n",
      "1 -1.578198  0.026014\n",
      "2 -0.218971 -0.642051\n",
      "3  0.991308  0.652029\n",
      "4  0.552791 -0.681658\n"
     ]
    }
   ],
   "source": [
    "# Convert factor scores to DataFrame\n",
    "factor_columns = [f\"Factor_{i+1}\" for i in range(optimal_factors)]\n",
    "factors_df = pd.DataFrame(factors, columns=factor_columns)\n",
    "print(\"\\nFactor Scores for Each Observation:\")\n",
    "print(factors_df.head())"
   ]
  },
  {
   "cell_type": "markdown",
   "id": "bc019e3e",
   "metadata": {},
   "source": [
    " Factor scores represent how each individual observation (row) scores on the extracted factors. They help us understand which food samples exhibit specific characteristics."
   ]
  },
  {
   "cell_type": "code",
   "execution_count": 110,
   "id": "a9792d87",
   "metadata": {},
   "outputs": [
    {
     "data": {
      "image/png": "[encoded data removed]",
      "text/plain": [
       "<Figure size 800x500 with 1 Axes>"
      ]
     },
     "metadata": {},
     "output_type": "display_data"
    }
   ],
   "source": [
    "# Scatter Plot of Factor Scores\n",
    "plt.figure(figsize=(8, 5))\n",
    "sns.scatterplot(x=factors_df['Factor_1'], y=factors_df['Factor_2'])\n",
    "plt.axhline(0, color='gray', linestyle='--')\n",
    "plt.axvline(0, color='gray', linestyle='--')\n",
    "plt.title(\"Scatter Plot of Factor Scores\")\n",
    "plt.xlabel(\"Factor 1\")\n",
    "plt.ylabel(\"Factor 2\")\n",
    "plt.show()"
   ]
  },
  {
   "cell_type": "markdown",
   "id": "3adc641a",
   "metadata": {},
   "source": [
    "This scatter plot represents the factor scores obtained from Factor Analysis on your dataset. Each point corresponds to an observation (sample), and the coordinates of the points represent the values \n",
    "of Factor 1 (X-axis) and Factor 2 (Y-axis). <br>\n",
    "<b>Key Interpretations: </b>\n",
    " • Top Right (+, +) → High Factor 1 & High Factor 2 These samples are high in both characteristics represented by Factor 1 and Factor 2. <br>\n",
    " • Top Left (-, +) → Low Factor 1 & High Factor 2 These samples score low on Factor 1 but high on Factor 2. <br>\n",
    " • Bottom Right (+, -) → High Factor 1 & Low Factor 2 These samples score high on Factor 1 but low on Factor 2. <br>\n",
    " • Bottom Left (-, -) → Low Factor 1 & Low Factor 2 These samples score low on both factors. <br>\n",
    " <br>\n",
    "<b>This Plot Shows:</b>\n",
    " • The spread of the points shows how the samples differ across the two factors. <br>\n",
    " • The center (0,0) represents samples that are neutral or have average values on both factors. <br>\n",
    " • The diversity in scores suggests that Factor Analysis successfully captured different characteristics in the data. <br>\n",
    " <br>\n",
    "Factor 1 and Factor 2 Represent Food Properties:(Factor 1 is crispiness & density and Factor 2 is oiliness & softness, based on previous interpretations.) <br>\n",
    " • Samples on the right (+ve Factor 1) → Crispier & denser foods. <br>\n",
    " • Samples on the left (-ve Factor 1) → Softer, less crispy foods. <br>\n",
    " • Samples on the top (+ve Factor 2) → Oily & soft foods. <br>\n",
    " • Samples on the bottom (-ve Factor 2) → Hard foods with low oil content."
   ]
  },
  {
   "cell_type": "code",
   "execution_count": 111,
   "id": "d23c1be6",
   "metadata": {},
   "outputs": [
    {
     "name": "stdout",
     "output_type": "stream",
     "text": [
      "Explained Variance by 2 factors: 0.8654\n"
     ]
    }
   ],
   "source": [
    "explained_variance = np.sum(eigenvalues[:optimal_factors]) / np.sum(eigenvalues)\n",
    "print(f\"Explained Variance by {optimal_factors} factors: {explained_variance:.4f}\")"
   ]
  },
  {
   "cell_type": "markdown",
   "id": "05939355",
   "metadata": {},
   "source": [
    "<b> Interpretation </b>: <br>\n",
    "We can conclude that 86.25% variance is captured by the two factors."
   ]
  }
 ],
 "metadata": {
  "kernelspec": {
   "display_name": "Python 3 (ipykernel)",
   "language": "python",
   "name": "python3"
  },
  "language_info": {
   "codemirror_mode": {
    "name": "ipython",
    "version": 3
   },
   "file_extension": ".py",
   "mimetype": "text/x-python",
   "name": "python",
   "nbconvert_exporter": "python",
   "pygments_lexer": "ipython3",
   "version": "3.11.5"
  }
 },
 "nbformat": 4,
 "nbformat_minor": 5
}
